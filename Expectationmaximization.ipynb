{
  "nbformat": 4,
  "nbformat_minor": 0,
  "metadata": {
    "colab": {
      "name": "question3_assign1.ipynb",
      "provenance": [],
      "collapsed_sections": []
    },
    "kernelspec": {
      "name": "python3",
      "display_name": "Python 3"
    }
  },
  "cells": [
    {
      "cell_type": "markdown",
      "metadata": {
        "id": "sWj2VE-qrKPD",
        "colab_type": "text"
      },
      "source": [
        "$$Maximum\\;Likelihood\\;Estimation:$$\n",
        "$$Binomial\\;Distribution:$$\n",
        "\n",
        "$$\n",
        "f(x)=\\frac{n!}{x!.(n-x)!}.p^{x}.(1-p)^{n-x}\n",
        "$$\n",
        "\n",
        "$$\n",
        "L(p)=\\prod_{i=1}^{n}f(x_{i})\n",
        "$$\n",
        "\n",
        "$$\n",
        "L(p)=\\prod_{i=1}^{n}\\frac{n!}{x!.(n-x)!}.p^{x}.(1-p)^{n-x}\n",
        "$$\n",
        "\n",
        "$$\n",
        "L(p)=(\\prod_{i=1}^{n}\\frac{n!}{x_{i}!.(n-x_{i})!}).p^{\\sum_{i=1}^{n}x_{i}}.(1-p)^{n-\\sum_{i=1}^{n}x_{i}}\n",
        "$$\n",
        "\n",
        "$$\n",
        "ln(L(p))\\propto\\;\\sum_{i=1}^{n}x_{i}.ln(p)+(n-\\sum_{i=1}^{n}x_{i}).ln(1-p).\n",
        "$$\n",
        "\n",
        "$$\n",
        "\\frac{\\partial(ln(L(p))}{\\partial p}=\\frac{1}{p}.\\sum_{i=1}^{n}x_{i}+\\frac{1}{1-p}.(n-\\sum_{i=1}^{n}x_{i}).\n",
        "$$\n",
        "\n",
        "$$\n",
        "\\implies \\tilde p=\\frac{\\sum_{i=1}^{n}x_{i}}{n}.\n",
        "$$\n",
        "\n",
        "$$\n",
        "\\blacksquare\n",
        "$$\n",
        "\n",
        "$$\n",
        "Poisson Distribution:\n",
        "$$\n",
        "\n",
        "$$\n",
        "f(x)=\\frac{\\lambda^{x}.e^{-\\lambda}}{x!}\\;\\;\\;x=0,1,2,..\n",
        "$$\n",
        "\n",
        "$$\n",
        "L(\\lambda)=\\prod_{i=1}^{n}\\frac{\\lambda^{x_{i}}.e^{-\\lambda}}{x_{i}!}\n",
        "$$\n",
        "\n",
        "$$\n",
        "L(\\lambda)=e^{-n\\lambda}.\\frac{\\lambda^{\\sum_{i=1}^{n}x_{i}}}  {\\prod_{i=1}^{n}x_{i}!}\n",
        "$$\n",
        "\n",
        "$$\n",
        "ln(L(\\lambda))=-n\\lambda+\\sum_{i=1}^{n}.x_{i}.ln(\\lambda)-ln(\\prod_{i=1}^{n}x_{i}!)\n",
        "$$\n",
        "\n",
        "$$\n",
        "After\\;applying\\;derivative\\;w.r.t\\;p:\n",
        "$$\n",
        "\n",
        "$$\n",
        "\\frac{\\partial ln(\\lambda)}{\\partial p}=-n+\\frac{1}{\\lambda}.(\\sum_{i=1}^{n}.x_{i})=0.\n",
        "$$\n",
        "\n",
        "$$\n",
        "\\tilde \\lambda=\\frac{\\sum_{i=1}^{n}.x_{i}}{n}.\n",
        "$$\n",
        "\n",
        "\n",
        "$$\n",
        "\\blacksquare\n",
        "$$\n",
        "\n",
        "$$\n",
        "Exponential Distribution:\n",
        "$$\n",
        "\n",
        "$$\n",
        "f(x)= \\left\\{ \\begin{array}{ll} \\lambda.e^{-\\lambda.x}, & x\\geq0 \\\\\n",
        " 0, & x<0 \\end{array} \\right. .\n",
        "$$\n",
        "\n",
        "$$\n",
        "L(\\lambda)=\\prod_{i=1}^{n}f(x_{i})\n",
        "$$\n",
        "\n",
        "$$\n",
        "L(\\lambda)=\\prod_{i=1}^{n}\\lambda.e^{-\\lambda.x_{i}}\n",
        "$$\n",
        "\n",
        "$$\n",
        "L(\\lambda)=\\lambda^{n}.e^{-\\lambda.\\sum_{i=1}^{n}x_{i}}\n",
        "$$\n",
        "\n",
        "$$\n",
        "ln(L(\\lambda))=n.ln(\\lambda)-\\lambda.\\sum_{i=1}^{n}x_{i}\n",
        "$$\n",
        "\n",
        "$$\n",
        "\\frac{\\partial ln(L(\\lambda))}{\\partial \\lambda}=\\frac{n}{\\lambda}-\\sum_{i=1}^{n}x_{i}.=0\n",
        "$$\n",
        "\n",
        "$$\n",
        "\\implies \\tilde \\lambda=(\\frac{\\sum_{i=1}^{n}x_{i}}{n}.)^{-1}\n",
        "$$\n",
        "\n",
        "$$\n",
        "\\blacksquare\n",
        "$$\n",
        "$$\n",
        "Guassian\\;Distribution:\n",
        "$$\n",
        "\n",
        "$$\n",
        "f(x)=\\frac{1}{\\sqrt(2\\pi.\\sigma^{2})}.e^{\\frac{-(x-\\mu)^{2}}{2\\sigma^{2}}}\n",
        "$$\n",
        "\n",
        "$$\n",
        "L(p)=\\prod_{i=1}^{n}f(x_{i})\n",
        "$$\n",
        "\n",
        "$$\n",
        "L(\\mu,\\sigma)=\\prod_{i=1}^{n}\\frac{1}{\\sqrt(2\\pi.\\sigma^{2})}.e^{\\frac{-(x_{i}-\\mu)^{2}}{2\\sigma^{2}}}\n",
        "$$\n",
        "\n",
        "$$\n",
        "ln(L(\\mu,\\sigma))=\\sum_{i=1}^{n}ln(\\frac{1}{\\sqrt(2\\pi.\\sigma^{2})})-\\sum_{i=1}^{n}\\frac{(x_{i}-\\mu)^{2}}{2\\sigma^{2}}\n",
        "$$\n",
        "\n",
        "$$\n",
        "\\frac{\\partial L(\\mu,\\sigma)}{\\partial \\mu}=-2*\\sum_{i=1}^{n}\\frac{(x_{i}-\\mu)}{2\\sigma^{2}}=0\n",
        "$$\n",
        "\n",
        "$$\n",
        "\\implies \\tilde \\mu=\\sum_{i=1}^{n}\\frac{x_{i}}{n}\n",
        "$$\n",
        "\n",
        "$$\n",
        "\\frac{\\partial L(\\mu,\\sigma)}{\\partial \\sigma}=-\\frac{\\sum_{i=1}^{n}}{\\sigma}+\\frac{(x_{i}-\\mu)^{2}}{\\sigma^{3}}=0\n",
        "$$\n",
        "\n",
        "$$\n",
        "\\implies=\\tilde \\sigma=\\sqrt\\frac{\\sum_{i=1}^{n}(x_{i}-\\mu)^{2}}{n}\n",
        "$$\n",
        "\n",
        "$$\n",
        "\\blacksquare\n",
        "$$\n",
        "\n",
        "$$\n",
        "Laplacian Distribution:\n",
        "$$\n",
        "\n",
        "$$\n",
        "f(x)=\\frac{e^(\\frac{-|x-\\mu|}{b})}{2b}\n",
        "$$\n",
        "\n",
        "$$\n",
        "L(\\mu,b)=\\prod_{i=1}^{n}\\frac{e^(\\frac{-|x_{i}-\\mu|}{b})}{2b}\n",
        "$$\n",
        "\n",
        "$$\n",
        "ln(L(\\mu,b))=\\sum_{i=1}^{n}(ln(\\frac{1}{2b})+\\frac{-|x_{i}-\\mu|}{b})\n",
        "$$\n",
        "\n",
        "$$\n",
        "\\frac{\\partial ln(L(\\mu,b))}{\\partial \\mu}=\\frac{\\partial \\sum_{i=1}^{n}\\frac{-|x_{i}-\\mu|}{b}}{\\partial \\mu}\n",
        "$$\n",
        "\n",
        "$$\n",
        "\\frac{\\partial ln(L(\\mu,b))}{\\partial \\mu}=-\\frac{\\sum_{i=1}^{n}sig(x_{i}-\\mu)}\n",
        "{b}=0\n",
        "$$\n",
        "\n",
        "$$\n",
        "\\tilde \\mu=median(x_{1},x_{2},...,x_{n})\n",
        "$$\n",
        "\n",
        "$$\n",
        "\\frac{\\partial ln(L(\\mu,b))}{\\partial b}=\\sum_{i=1}^{n}(ln(\\frac{1}{2b})+\\frac{-|x_{i}-\\mu|}{b})\n",
        "$$\n",
        "\n",
        "$$\n",
        "\\frac{\\partial ln(L(\\mu,b))}{\\partial b}=\\sum_{i=1}^{n}.(-\\frac{1}{b}+\\frac{|x_{i}-\\mu|}{b^{2}})\n",
        "$$\n",
        "\n",
        "$$\n",
        "\\implies \\tilde b=\\frac{\\sum_{i=1}^{n}.|x-\\tilde \\mu|}{n}\n",
        "$$\n",
        "\n",
        "$$\n",
        "\\blacksquare\n",
        "$$"
      ]
    },
    {
      "cell_type": "markdown",
      "metadata": {
        "id": "tXbOiTNFsgWG",
        "colab_type": "text"
      },
      "source": [
        "$$\n",
        "Applying\\;MLE\\;on\\;the\\; above\\;distributions\\;and\\;comparing\\;them\\; with\\; orginal\\;data\\;points:\n",
        "$$"
      ]
    },
    {
      "cell_type": "markdown",
      "metadata": {
        "id": "lSZoav0DtI6i",
        "colab_type": "text"
      },
      "source": [
        "$$\n",
        "Binomial\\;distribution\n",
        "$$"
      ]
    },
    {
      "cell_type": "code",
      "metadata": {
        "id": "-I7udjqUuxIS",
        "colab_type": "code",
        "colab": {}
      },
      "source": [
        "import numpy as np\n",
        "import cv2\n",
        "import os\n",
        "import matplotlib.pyplot as plt\n",
        "import random as rd\n",
        "import math\n",
        "import operator as op\n",
        "from functools import reduce"
      ],
      "execution_count": 0,
      "outputs": []
    },
    {
      "cell_type": "code",
      "metadata": {
        "id": "9i5j9Hv_t8C8",
        "colab_type": "code",
        "colab": {}
      },
      "source": [
        "def ncr(n, r):\n",
        "    r = min(r, n-r)\n",
        "    numerator = reduce(op.mul, range(n, n-r, -1), 1)\n",
        "    denominator = reduce(op.mul, range(1, r+1), 1)\n",
        "    return numerator / denominator"
      ],
      "execution_count": 0,
      "outputs": []
    },
    {
      "cell_type": "code",
      "metadata": {
        "id": "6fdqbPPethHs",
        "colab_type": "code",
        "colab": {}
      },
      "source": [
        "def binomial(x,n,p):\n",
        "  return ncr(n,x)*(np.power(p,x))*(np.power(1-p,n-x))"
      ],
      "execution_count": 0,
      "outputs": []
    },
    {
      "cell_type": "code",
      "metadata": {
        "id": "lDiS-3ELoWgu",
        "colab_type": "code",
        "colab": {
          "base_uri": "https://localhost:8080/",
          "height": 109
        },
        "outputId": "ab46c406-1e88-4075-bbfd-8d369d8b0810"
      },
      "source": [
        "x1=[i for i in range(10)]\n",
        "p=1/3\n",
        "y=list()\n",
        "\n",
        "for i in range(np.shape(x1)[0]):\n",
        "  y.append(binomial(x1[i],np.shape(x1)[0],p))\n",
        "\n",
        "X_bin=list()\n",
        "for i in range(np.shape(x1)[0]):\n",
        "  l=list()\n",
        "  l.append(x1[i])\n",
        "  l.append(y[i])\n",
        "  X_bin.append(l)\n",
        "\n",
        "print('Orginal data points:')\n",
        "print(X_bin)\n",
        "\n",
        "p_mle=np.mean(x1)/(np.shape(x1)[0])\n",
        "\n",
        "y_mle=list()\n",
        "\n",
        "for i in range(np.shape(x1)[0]):\n",
        "  y_mle.append(binomial(x1[i],np.shape(x1)[0],p_mle))\n",
        "\n",
        "X_bin_mle=list()\n",
        "for i in range(np.shape(x1)[0]):\n",
        "  l=list()\n",
        "  l.append(x1[i])\n",
        "  l.append(y_mle[i])\n",
        "  X_bin_mle.append(l)\n",
        "\n",
        "print(\"Mle data points:\")\n",
        "print(X_bin_mle)"
      ],
      "execution_count": 75,
      "outputs": [
        {
          "output_type": "stream",
          "text": [
            "Orginal data points:\n",
            "[[0, 0.017341529915832633], [1, 0.08670764957916315], [2, 0.19509221155311707], [3, 0.26012294873748937], [4, 0.22760758014530316], [5, 0.13656454808718185], [6, 0.05690189503632578], [7, 0.016257684296093075], [8, 0.0030483158055174507], [9, 0.0003387017561686056]]\n",
            "Mle data points:\n",
            "[[0, 0.0025329516211914085], [1, 0.020724149627929705], [2, 0.0763025509028321], [3, 0.1664782928789064], [4, 0.23836664662207044], [5, 0.23403270759257822], [6, 0.15956775517675786], [7, 0.07460310631640628], [8, 0.02288958943798829], [9, 0.004161743534179689]]\n"
          ],
          "name": "stdout"
        }
      ]
    },
    {
      "cell_type": "markdown",
      "metadata": {
        "id": "p8Ndbbkp8iEI",
        "colab_type": "text"
      },
      "source": [
        "$$\n",
        "Poisson\\;distribution\n",
        "$$"
      ]
    },
    {
      "cell_type": "code",
      "metadata": {
        "id": "lwxUH6ihtU5h",
        "colab_type": "code",
        "colab": {}
      },
      "source": [
        "def factorial(n):  \n",
        "    return 1 if (n==1 or n==0) else n * factorial(n - 1);  "
      ],
      "execution_count": 0,
      "outputs": []
    },
    {
      "cell_type": "code",
      "metadata": {
        "id": "qYZhACoH9ERX",
        "colab_type": "code",
        "colab": {}
      },
      "source": [
        "def poisson(x,l):\n",
        "  return (np.power(l,x)*np.exp(-l))/(factorial(x))"
      ],
      "execution_count": 0,
      "outputs": []
    },
    {
      "cell_type": "code",
      "metadata": {
        "id": "9tqpN1Vr-Pdp",
        "colab_type": "code",
        "colab": {
          "base_uri": "https://localhost:8080/",
          "height": 109
        },
        "outputId": "29832f06-0510-4da9-9575-fa8d78591642"
      },
      "source": [
        "x2=[i for i in range(10)]\n",
        "l=4\n",
        "y=list()\n",
        "\n",
        "for i in range(np.shape(x2)[0]):\n",
        "  y.append(poisson(x2[i],l))\n",
        "\n",
        "X_poi=list()\n",
        "for i in range(np.shape(x2)[0]):\n",
        "  l=list()\n",
        "  l.append(x2[i])\n",
        "  l.append(y[i])\n",
        "  X_poi.append(l)\n",
        "\n",
        "print('Orginal data points:')\n",
        "print(X_poi)\n",
        "\n",
        "l_mle=np.mean(x2)\n",
        "\n",
        "y_mle=list()\n",
        "\n",
        "for i in range(np.shape(x2)[0]):\n",
        "  y_mle.append(poisson(x2[i],l_mle))\n",
        "\n",
        "X_poi_mle=list()\n",
        "for i in range(np.shape(x2)[0]):\n",
        "  l=list()\n",
        "  l.append(x2[i])\n",
        "  l.append(y_mle[i])\n",
        "  X_poi_mle.append(l)\n",
        "\n",
        "print(\"Mle data points:\")\n",
        "print(X_poi_mle)"
      ],
      "execution_count": 66,
      "outputs": [
        {
          "output_type": "stream",
          "text": [
            "Orginal data points:\n",
            "[[0, 0.01831563888873418], [1, 0.07326255555493671], [2, 0.14652511110987343], [3, 0.19536681481316456], [4, 0.19536681481316456], [5, 0.15629345185053165], [6, 0.1041956345670211], [7, 0.059540362609726345], [8, 0.029770181304863173], [9, 0.013231191691050298]]\n",
            "Mle data points:\n",
            "[[0, 0.011108996538242306], [1, 0.04999048442209038], [2, 0.11247858994970335], [3, 0.168717884924555], [4, 0.18980762054012443], [5, 0.17082685848611195], [6, 0.12812014386458398], [7, 0.08236294962723255], [8, 0.04632915916531831], [9, 0.023164579582659155]]\n"
          ],
          "name": "stdout"
        }
      ]
    },
    {
      "cell_type": "markdown",
      "metadata": {
        "id": "6bD7jNq0_Lq6",
        "colab_type": "text"
      },
      "source": [
        "$$\n",
        "Exponential\\;Distribution:\n",
        "$$"
      ]
    },
    {
      "cell_type": "code",
      "metadata": {
        "id": "WRF-Z8xa-49Y",
        "colab_type": "code",
        "colab": {}
      },
      "source": [
        "def exponential(x,l):\n",
        "  return l*np.exp(-l*x)"
      ],
      "execution_count": 0,
      "outputs": []
    },
    {
      "cell_type": "code",
      "metadata": {
        "id": "pS5iVNPH_fnn",
        "colab_type": "code",
        "colab": {
          "base_uri": "https://localhost:8080/",
          "height": 109
        },
        "outputId": "86bc428b-39fd-486a-bcf3-c4512833c93f"
      },
      "source": [
        "x=[i for i in range(10)]\n",
        "l=4\n",
        "y=list()\n",
        "\n",
        "for i in range(np.shape(x)[0]):\n",
        "  y.append(exponential(x[i],l))\n",
        "\n",
        "X_expo=list()\n",
        "for i in range(np.shape(x)[0]):\n",
        "  l=list()\n",
        "  l.append(x[i])\n",
        "  l.append(y[i])\n",
        "  X_expo.append(l)\n",
        "\n",
        "print('Orginal data points:')\n",
        "print(X_expo)\n",
        "\n",
        "l_mle=1/np.mean(x)\n",
        "\n",
        "y_mle=list()\n",
        "\n",
        "for i in range(np.shape(x)[0]):\n",
        "  y_mle.append(exponential(x[i],l_mle))\n",
        "\n",
        "X_expo_mle=list()\n",
        "for i in range(np.shape(x)[0]):\n",
        "  l=list()\n",
        "  l.append(x[i])\n",
        "  l.append(y_mle[i])\n",
        "  X_expo_mle.append(l)\n",
        "\n",
        "print(\"Mle data points:\")\n",
        "print(X_expo_mle)"
      ],
      "execution_count": 69,
      "outputs": [
        {
          "output_type": "stream",
          "text": [
            "Orginal data points:\n",
            "[[0, 4.0], [1, 0.07326255555493671], [2, 0.0013418505116100474], [3, 2.457684941331284e-05], [4, 4.5014069887703647e-07], [5, 8.244614489754231e-09], [6, 1.510053817711639e-10], [7, 2.7657600427760812e-12], [8, 5.06566621963767e-14], [9, 9.278091320974279e-16]]\n",
            "Mle data points:\n",
            "[[0, 0.2222222222222222], [1, 0.177941645092624], [2, 0.14248453076221212], [3, 0.11409269311835378], [4, 0.09135828677937498], [5, 0.07315399729064567], [6, 0.05857714180349483], [7, 0.04690490839802005], [8, 0.03755851453468135], [9, 0.030074507385913933]]\n"
          ],
          "name": "stdout"
        }
      ]
    },
    {
      "cell_type": "markdown",
      "metadata": {
        "id": "tdYvgC7MAI4w",
        "colab_type": "text"
      },
      "source": [
        "$$\n",
        "Gaussian\\;Distribution:\n",
        "$$"
      ]
    },
    {
      "cell_type": "code",
      "metadata": {
        "id": "IDj90uujABm2",
        "colab_type": "code",
        "colab": {}
      },
      "source": [
        "def guassian(x,u,s):\n",
        "  return (1/np.sqrt(2*np.pi*s**2))*np.exp(-(x-u)**2/(2*s**2))"
      ],
      "execution_count": 0,
      "outputs": []
    },
    {
      "cell_type": "code",
      "metadata": {
        "id": "A19K-KxTArzg",
        "colab_type": "code",
        "colab": {
          "base_uri": "https://localhost:8080/",
          "height": 109
        },
        "outputId": "9ed9018f-ae4e-4a03-c6ff-317fcbda1e40"
      },
      "source": [
        "x=[i for i in range(10)]\n",
        "u=3\n",
        "s=0.5\n",
        "y=list()\n",
        "\n",
        "for i in range(np.shape(x)[0]):\n",
        "  y.append(guassian(x[i],u,s))\n",
        "\n",
        "X_gau=list()\n",
        "for i in range(np.shape(x)[0]):\n",
        "  l=list()\n",
        "  l.append(x[i])\n",
        "  l.append(y[i])\n",
        "  X_gau.append(l)\n",
        "\n",
        "print('Orginal data points:')\n",
        "print(X_gau)\n",
        "\n",
        "u_mle=np.mean(x)\n",
        "s_mle=np.sqrt(np.mean((x-u_mle)**2))\n",
        "\n",
        "y_mle=list()\n",
        "\n",
        "for i in range(np.shape(x)[0]):\n",
        "  y_mle.append(guassian(x[i],u_mle,s_mle))\n",
        "\n",
        "X_gua_mle=list()\n",
        "for i in range(np.shape(x)[0]):\n",
        "  l=list()\n",
        "  l.append(x[i])\n",
        "  l.append(y_mle[i])\n",
        "  X_gua_mle.append(l)\n",
        "\n",
        "print(\"Mle data points:\")\n",
        "print(X_gua_mle)"
      ],
      "execution_count": 71,
      "outputs": [
        {
          "output_type": "stream",
          "text": [
            "Orginal data points:\n",
            "[[0, 1.2151765699646572e-08], [1, 0.00026766045152977074], [2, 0.10798193302637613], [3, 0.7978845608028654], [4, 0.10798193302637613], [5, 0.00026766045152977074], [6, 1.2151765699646572e-08], [7, 1.0104542167073785e-14], [8, 1.538919725341284e-22], [9, 4.292767471326121e-32]]\n",
            "Mle data points:\n",
            "[[0, 0.04070852045517853], [1, 0.06610774448655206], [2, 0.09509936257203262], [3, 0.12118841814877979], [4, 0.13680528403819117], [5, 0.13680528403819117], [6, 0.12118841814877979], [7, 0.09509936257203262], [8, 0.06610774448655206], [9, 0.04070852045517853]]\n"
          ],
          "name": "stdout"
        }
      ]
    },
    {
      "cell_type": "markdown",
      "metadata": {
        "id": "lyqAlzWxBoS2",
        "colab_type": "text"
      },
      "source": [
        "$$\n",
        "Laplacian\\;Distribution:\n",
        "$$"
      ]
    },
    {
      "cell_type": "code",
      "metadata": {
        "id": "AVRgObb6BX1j",
        "colab_type": "code",
        "colab": {}
      },
      "source": [
        "def laplacian(x,u,b):\n",
        "  return np.exp(-np.abs(x-u)/b)/(2*b)"
      ],
      "execution_count": 0,
      "outputs": []
    },
    {
      "cell_type": "code",
      "metadata": {
        "id": "YKjXtz1RCaC8",
        "colab_type": "code",
        "colab": {
          "base_uri": "https://localhost:8080/",
          "height": 109
        },
        "outputId": "7f425fb1-e729-401d-a349-cee9c7bfd105"
      },
      "source": [
        "x=[i for i in range(10)]\n",
        "u=3\n",
        "b=0.5\n",
        "y=list()\n",
        "\n",
        "for i in range(np.shape(x)[0]):\n",
        "  y.append(laplacian(x[i],u,b))\n",
        "\n",
        "X_lapla=list()\n",
        "for i in range(np.shape(x)[0]):\n",
        "  l=list()\n",
        "  l.append(x[i])\n",
        "  l.append(y[i])\n",
        "  X_lapla.append(l)\n",
        "\n",
        "print('Orginal data points:')\n",
        "print(X_lapla)\n",
        "\n",
        "u_mle=np.median(x)\n",
        "b_mle=np.mean(np.abs(x-u_mle))\n",
        "\n",
        "y_mle=list()\n",
        "\n",
        "for i in range(np.shape(x)[0]):\n",
        "  y_mle.append(laplacian(x[i],u_mle,b_mle))\n",
        "\n",
        "X_lapla_mle=list()\n",
        "for i in range(np.shape(x)[0]):\n",
        "  l=list()\n",
        "  l.append(x[i])\n",
        "  l.append(y_mle[i])\n",
        "  X_lapla_mle.append(l)\n",
        "\n",
        "print(\"Mle data points:\")\n",
        "print(X_lapla_mle)"
      ],
      "execution_count": 72,
      "outputs": [
        {
          "output_type": "stream",
          "text": [
            "Orginal data points:\n",
            "[[0, 0.0024787521766663585], [1, 0.01831563888873418], [2, 0.1353352832366127], [3, 1.0], [4, 0.1353352832366127], [5, 0.01831563888873418], [6, 0.0024787521766663585], [7, 0.00033546262790251185], [8, 4.5399929762484854e-05], [9, 6.14421235332821e-06]]\n",
            "Mle data points:\n",
            "[[0, 0.033059777644317306], [1, 0.0493193927883213], [2, 0.07357588823428847], [3, 0.10976232721880527], [4, 0.16374615061559636], [5, 0.16374615061559636], [6, 0.10976232721880527], [7, 0.07357588823428847], [8, 0.0493193927883213], [9, 0.033059777644317306]]\n"
          ],
          "name": "stdout"
        }
      ]
    },
    {
      "cell_type": "markdown",
      "metadata": {
        "id": "qxMG74mKTuoE",
        "colab_type": "text"
      },
      "source": [
        "$$\n",
        "Clearly\\;mle\\;data\\;points\\;are\\;relatively\\;greater\\;than\\;generated\\;data\\;points\\;in\\;all\\;the\\;five\\;distributions.\n",
        "$$"
      ]
    }
  ]
}