{
  "nbformat": 4,
  "nbformat_minor": 0,
  "metadata": {
    "colab": {
      "name": "Sparse_Autoencoder(Scratch).ipynb",
      "provenance": []
    },
    "kernelspec": {
      "name": "python3",
      "display_name": "Python 3"
    }
  },
  "cells": [
    {
      "cell_type": "markdown",
      "metadata": {
        "id": "uy8ed-tLnd8Z",
        "colab_type": "text"
      },
      "source": [
        "$$\n",
        "Importing\\;neccessary\\;libraries\n",
        "$$"
      ]
    },
    {
      "cell_type": "code",
      "metadata": {
        "id": "FhKJ09gXm5kF",
        "colab_type": "code",
        "colab": {}
      },
      "source": [
        "import numpy as np\n",
        "import matplotlib.pyplot as plt\n",
        "import math"
      ],
      "execution_count": 0,
      "outputs": []
    },
    {
      "cell_type": "markdown",
      "metadata": {
        "id": "9XK7bvAdrlm4",
        "colab_type": "text"
      },
      "source": [
        "$$\n",
        "Creating\\;a\\;network\\;with\\;weights\\;between\\;low\\;and\\;high\n",
        "$$"
      ]
    },
    {
      "cell_type": "code",
      "metadata": {
        "id": "iS8l_WcBnoKq",
        "colab_type": "code",
        "colab": {}
      },
      "source": [
        "def network(input_size,hidden_size,output_size,low,high):\n",
        "  whx=np.random.uniform(low, high, size=(hidden_size,input_size))\n",
        "  woh=np.random.uniform(low, high, size=(output_size,hidden_size))\n",
        "  \n",
        "  bh=np.random.uniform(low, high, size=(hidden_size,))\n",
        "  bo=np.random.uniform(low, high, size=(output_size,))\n",
        "  \n",
        "  return (np.matrix(whx),np.matrix(woh),np.matrix(bh),np.matrix(bo))"
      ],
      "execution_count": 0,
      "outputs": []
    },
    {
      "cell_type": "markdown",
      "metadata": {
        "id": "Oso83RIgrqn5",
        "colab_type": "text"
      },
      "source": [
        "$$\n",
        "Sigmoid\\;function\n",
        "$$"
      ]
    },
    {
      "cell_type": "code",
      "metadata": {
        "id": "BZ-PmFIAntW9",
        "colab_type": "code",
        "colab": {}
      },
      "source": [
        "def sigmoid(x):\n",
        "  return 1/(1+np.exp(-x))"
      ],
      "execution_count": 0,
      "outputs": []
    },
    {
      "cell_type": "markdown",
      "metadata": {
        "id": "sVOhdl8Cry26",
        "colab_type": "text"
      },
      "source": [
        "$$\n",
        "Forward\\;propagation\n",
        "$$"
      ]
    },
    {
      "cell_type": "code",
      "metadata": {
        "id": "XSkdudxunxI_",
        "colab_type": "code",
        "colab": {}
      },
      "source": [
        "def forward_propagation(x,Whx,Woh,Bh,Bo):\n",
        "  h=np.dot(Whx,np.transpose(x))\n",
        "  h=sigmoid(np.add(h,np.transpose(Bh)))\n",
        "  \n",
        "  o=np.dot(Woh,h)\n",
        "  o=sigmoid(np.add(o,np.transpose(Bo)))\n",
        "  \n",
        "  return(h,o)"
      ],
      "execution_count": 0,
      "outputs": []
    },
    {
      "cell_type": "markdown",
      "metadata": {
        "id": "S_M1FKBEr07k",
        "colab_type": "text"
      },
      "source": [
        "$$\n",
        "Derivative\\;of\\;sigmoid\\;function\n",
        "$$"
      ]
    },
    {
      "cell_type": "code",
      "metadata": {
        "id": "l1URNQ9bnz65",
        "colab_type": "code",
        "colab": {}
      },
      "source": [
        "def transfer_derivative(num):\n",
        "  return num-np.multiply(num,num)"
      ],
      "execution_count": 0,
      "outputs": []
    },
    {
      "cell_type": "markdown",
      "metadata": {
        "id": "YVYb4_Snn-nu",
        "colab_type": "text"
      },
      "source": [
        "$$\n",
        "Sparse\\;autoencoder(784,500,784)\\;from\\;scratch\n",
        "$$"
      ]
    },
    {
      "cell_type": "markdown",
      "metadata": {
        "id": "a59RBgr4oE47",
        "colab_type": "text"
      },
      "source": [
        "$$\n",
        "KL\\;divergence\n",
        "$$"
      ]
    },
    {
      "cell_type": "code",
      "metadata": {
        "id": "iNkwrp8dn30L",
        "colab_type": "code",
        "colab": {}
      },
      "source": [
        "def kl_divergence(p,h):\n",
        "  return np.sum(p*np.log(p/h)+(1-p)*np.log((1-p)/(1-h)))"
      ],
      "execution_count": 0,
      "outputs": []
    },
    {
      "cell_type": "code",
      "metadata": {
        "id": "RqDgFDf9oIls",
        "colab_type": "code",
        "colab": {}
      },
      "source": [
        "def back_propagation_autoencoder(target,output,h,x,Woh):\n",
        "  do=np.multiply(-(target-output),transfer_derivative(output))\n",
        "  dWoh=np.matmul(np.matrix(do),np.matrix(np.transpose(h)))\n",
        "  dBo=do\n",
        "  \n",
        "  dh=np.matmul(np.multiply(np.transpose(Woh),transfer_derivative(h))\n",
        "               ,np.matrix(do))\n",
        "  dWhx=np.matmul(np.matrix(dh),np.matrix(x))\n",
        "  dBh=dh\n",
        "  \n",
        "  dsh=np.matmul(transfer_derivative(h),np.matrix(x))\n",
        "  \n",
        "  return(np.matrix(dWoh),np.matrix(dWhx),np.matrix(dBo)\n",
        "         ,np.matrix(dBh),np.matrix(dsh))"
      ],
      "execution_count": 0,
      "outputs": []
    },
    {
      "cell_type": "code",
      "metadata": {
        "id": "yGyAtoD4oNjZ",
        "colab_type": "code",
        "colab": {}
      },
      "source": [
        "def train_autoencoder(x,target,whx,woh,bh,bo,epochs,lr,sp,lamda):\n",
        "  for i in range(epochs):\n",
        "    loss=0\n",
        "    sdWoh,sdWhx=np.zeros(np.shape(woh)),np.zeros(np.shape(whx))\n",
        "    sdBo,sdBh=np.zeros(np.shape(bo)),np.zeros(np.shape(bh))\n",
        "    sdsh=np.zeros(np.shape(whx))\n",
        "    sh=np.zeros((np.shape(whx)[0],1))\n",
        "    for j in range(np.shape(x)[0]):\n",
        "      (h,o)=forward_propagation(np.array(x[j]),whx,woh,bh,bo)\n",
        "      (dWoh,dWhx,dBo,dBh,dsh)=back_propagation_autoencoder(np.array(target[j])\n",
        "                                                           ,o,h,np.array(x[j])\n",
        "                                                           ,woh)\n",
        "      \n",
        "      sdWoh+=dWoh.reshape(np.shape(woh))\n",
        "      sdWhx+=dWhx.reshape(np.shape(whx))\n",
        "      sdBo+=dBo.reshape(np.shape(bo))\n",
        "      sdBh+=dBh.reshape(np.shape(bh))\n",
        "      sh+=h.reshape(np.shape(h))\n",
        "      sdsh+=np.multiply(sdsh/(j+1)\n",
        "                        ,(-sp/(sh/(j+1))\n",
        "                          +(1-sp)/(1-sh/(j+1)))).reshape(np.shape(whx))\n",
        "      \n",
        "      loss+=0.5*np.sum((target[j][0]-o[0])**2)+lamda*kl_divergence(sp,sh/(j+1))\n",
        "    \n",
        "    eff_sdWhx=(sdWhx+lamda*sdsh).reshape(np.shape(whx))\n",
        "    whx=whx-lr*(1/np.shape(x)[0])*eff_sdWhx\n",
        "    woh=woh-lr*(1/np.shape(x)[0])*sdWoh.reshape(np.shape(woh))\n",
        "    bh=bh-lr*(1/np.shape(x)[0])*sdBh.reshape(np.shape(bh))\n",
        "    bo=bo-lr*(1/np.shape(x)[0])*sdBo.reshape(np.shape(bo))\n",
        "    \n",
        "    if i%(epochs/10)==0:\n",
        "      print(\"Epoch:\",end=\" \")\n",
        "      print(i+1)\n",
        "      print(\"loss:\",end=\" \")\n",
        "      print(loss/np.shape(x)[0])\n",
        "    \n",
        "  return(whx,woh,bh,bo)"
      ],
      "execution_count": 0,
      "outputs": []
    },
    {
      "cell_type": "markdown",
      "metadata": {
        "id": "t98E3CfxovlG",
        "colab_type": "text"
      },
      "source": [
        "$$\n",
        "Data\\;preprocessing\\;of\\;MNIST\\;data\n",
        "$$"
      ]
    },
    {
      "cell_type": "code",
      "metadata": {
        "id": "vNayXb9ToqO2",
        "colab_type": "code",
        "colab": {
          "base_uri": "https://localhost:8080/",
          "height": 89
        },
        "outputId": "0e389af6-354b-4b84-a176-9f67061e569c"
      },
      "source": [
        "import numpy as np\n",
        "import tensorflow as tf\n",
        "from tensorflow.examples.tutorials.mnist import input_data\n",
        "mnist = input_data.read_data_sets(\"MNIST_data/\", one_hot=True)\n",
        "X_train = np.vstack([img.reshape((28, 28)) for img in mnist.train.images])\n",
        "y_train = mnist.train.labels\n",
        "X_test = np.vstack([img.reshape(28, 28) for img in mnist.test.images])\n",
        "y_test = mnist.test.labels\n",
        "del mnist"
      ],
      "execution_count": 12,
      "outputs": [
        {
          "output_type": "stream",
          "text": [
            "Extracting MNIST_data/train-images-idx3-ubyte.gz\n",
            "Extracting MNIST_data/train-labels-idx1-ubyte.gz\n",
            "Extracting MNIST_data/t10k-images-idx3-ubyte.gz\n",
            "Extracting MNIST_data/t10k-labels-idx1-ubyte.gz\n"
          ],
          "name": "stdout"
        }
      ]
    },
    {
      "cell_type": "markdown",
      "metadata": {
        "id": "_ePz_M1eo-Oi",
        "colab_type": "text"
      },
      "source": [
        "$$\n",
        "Data\\;preprocessing(Using\\;100\\;MNIST\\;images\\;for\\;training:):\n",
        "$$"
      ]
    },
    {
      "cell_type": "code",
      "metadata": {
        "id": "ETsnJRkXo_cM",
        "colab_type": "code",
        "colab": {}
      },
      "source": [
        "x_train=list()\n",
        "y_train=list()\n",
        "for i in range(0,28*100,X_train.shape[1]):\n",
        "  r=list()\n",
        "  for j in range(X_train.shape[1]):\n",
        "    r=r+list(X_train[i+j])\n",
        "  x_train.append(np.matrix(r))\n",
        "  y_train.append(np.transpose(np.matrix(r)))\n",
        "\n",
        "x_train=np.array(x_train)"
      ],
      "execution_count": 0,
      "outputs": []
    },
    {
      "cell_type": "markdown",
      "metadata": {
        "id": "OdZ2KZxXodu6",
        "colab_type": "text"
      },
      "source": [
        "$$\n",
        "Training\\;sparse\\;autoencoder(784,500,784)\\;on\\;MNIST\\;data\n",
        "$$"
      ]
    },
    {
      "cell_type": "code",
      "metadata": {
        "id": "ZmBjFgqcoRYF",
        "colab_type": "code",
        "colab": {
          "base_uri": "https://localhost:8080/",
          "height": 377
        },
        "outputId": "7e7e5cd6-b3b1-484a-a892-223cf0e2f232"
      },
      "source": [
        "(Whxa1,Woha1,Bha1,Boa1)=network(784,500,784,low=0.001,high=0.01)\n",
        "(Whxa1,Woha1,Bha1,Boa1)=train_autoencoder(x_train,y_train\n",
        "                                          ,np.array(Whxa1)\n",
        "                                          ,np.array(Woha1)\n",
        "                                          ,np.array(Bha1)\n",
        "                                          ,np.array(Boa1)\n",
        "                                          ,epochs=250\n",
        "                                          ,lr=0.5\n",
        "                                          ,sp=0.0001\n",
        "                                          ,lamda=0.0000001)"
      ],
      "execution_count": 14,
      "outputs": [
        {
          "output_type": "stream",
          "text": [
            "Epoch: 1\n",
            "loss: 0.3617410809178024\n",
            "Epoch: 26\n",
            "loss: 0.0003133739670516436\n",
            "Epoch: 51\n",
            "loss: 0.00011092294886828296\n",
            "Epoch: 76\n",
            "loss: 6.110957555809284e-05\n",
            "Epoch: 101\n",
            "loss: 4.5058701567883345e-05\n",
            "Epoch: 126\n",
            "loss: 3.9832451818892935e-05\n",
            "Epoch: 151\n",
            "loss: 4.073325797103907e-05\n",
            "Epoch: 176\n",
            "loss: 3.801958566498322e-05\n",
            "Epoch: 201\n",
            "loss: 3.530223628898157e-05\n",
            "Epoch: 226\n",
            "loss: 3.429264282371627e-05\n"
          ],
          "name": "stdout"
        }
      ]
    },
    {
      "cell_type": "markdown",
      "metadata": {
        "id": "ixswBrmzpYxB",
        "colab_type": "text"
      },
      "source": [
        "$$\n",
        "Reconstructing\\;the\\;image\\;using\\;sparse\\;autoencoder\n",
        "$$"
      ]
    },
    {
      "cell_type": "code",
      "metadata": {
        "id": "EAyLl_l1omWG",
        "colab_type": "code",
        "colab": {
          "base_uri": "https://localhost:8080/",
          "height": 567
        },
        "outputId": "768c3afb-1b81-4a8d-dd63-9469c6702226"
      },
      "source": [
        "print('Orginal image:')\n",
        "plt.imshow(x_train[1].reshape(28,28))\n",
        "plt.show()\n",
        "(ha1,oa1)=forward_propagation(np.array(x_train[1]),Whxa1,Woha1,Bha1,Boa1)\n",
        "print(\"Reconstructed_image from sparse autoencoder:\")\n",
        "plt.imshow(oa1.reshape(28,28))"
      ],
      "execution_count": 15,
      "outputs": [
        {
          "output_type": "stream",
          "text": [
            "Orginal image:\n"
          ],
          "name": "stdout"
        },
        {
          "output_type": "display_data",
          "data": {
            "image/png": "[encoded data removed]",
            "text/plain": [
              "<Figure size 432x288 with 1 Axes>"
            ]
          },
          "metadata": {
            "tags": []
          }
        },
        {
          "output_type": "stream",
          "text": [
            "Reconstructed_image from sparse autoencoder:\n"
          ],
          "name": "stdout"
        },
        {
          "output_type": "execute_result",
          "data": {
            "text/plain": [
              "<matplotlib.image.AxesImage at 0x7f5622075f28>"
            ]
          },
          "metadata": {
            "tags": []
          },
          "execution_count": 15
        },
        {
          "output_type": "display_data",
          "data": {
            "image/png": "[encoded data removed]",
            "text/plain": [
              "<Figure size 432x288 with 1 Axes>"
            ]
          },
          "metadata": {
            "tags": []
          }
        }
      ]
    },
    {
      "cell_type": "code",
      "metadata": {
        "id": "WKZL0hlQq2AA",
        "colab_type": "code",
        "colab": {}
      },
      "source": [
        ""
      ],
      "execution_count": 0,
      "outputs": []
    }
  ]
}