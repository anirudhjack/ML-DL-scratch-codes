{
  "nbformat": 4,
  "nbformat_minor": 0,
  "metadata": {
    "colab": {
      "name": "question2_assign1.ipynb",
      "provenance": [],
      "collapsed_sections": []
    },
    "kernelspec": {
      "name": "python3",
      "display_name": "Python 3"
    }
  },
  "cells": [
    {
      "cell_type": "markdown",
      "metadata": {
        "id": "6orYE48mbmdQ",
        "colab_type": "text"
      },
      "source": [
        "$$Importing\\;neccessary\\;libraries:$$"
      ]
    },
    {
      "cell_type": "code",
      "metadata": {
        "id": "prQ8PK7yC0lI",
        "colab_type": "code",
        "colab": {}
      },
      "source": [
        "import numpy as np\n",
        "import cv2\n",
        "import os\n",
        "import matplotlib.pyplot as plt\n",
        "import random as rd\n",
        "import math\n",
        "from numpy.linalg import eig\n",
        "from numpy import array\n",
        "from numpy import mean\n",
        "from numpy import cov"
      ],
      "execution_count": 0,
      "outputs": []
    },
    {
      "cell_type": "markdown",
      "metadata": {
        "id": "aQkIsSh_b9DG",
        "colab_type": "text"
      },
      "source": [
        "$$Visualizing\\;the\\;data:Applying\\;PCA\\;on\\;image\\;to\\;reduce\\;redudancies\\;in\\;an\\;image\\;patch.$$"
      ]
    },
    {
      "cell_type": "code",
      "metadata": {
        "id": "b9q7dkBmbt9V",
        "colab_type": "code",
        "outputId": "4191a407-a6a9-4941-a660-b46932111972",
        "colab": {
          "base_uri": "https://localhost:8080/",
          "height": 287
        }
      },
      "source": [
        "data=cv2.imread('kmeans.png')\n",
        "plt.imshow(data[:,:,[2,1,0]])"
      ],
      "execution_count": 4,
      "outputs": [
        {
          "output_type": "execute_result",
          "data": {
            "text/plain": [
              "<matplotlib.image.AxesImage at 0x7f7cea9e7e80>"
            ]
          },
          "metadata": {
            "tags": []
          },
          "execution_count": 4
        },
        {
          "output_type": "display_data",
          "data": {
            "image/png": "[encoded data removed]",
            "text/plain": [
              "<Figure size 432x288 with 1 Axes>"
            ]
          },
          "metadata": {
            "tags": []
          }
        }
      ]
    },
    {
      "cell_type": "markdown",
      "metadata": {
        "id": "ErXVYlA7uDDe",
        "colab_type": "text"
      },
      "source": [
        "$$Taking\\;a\\;small\\;image\\;patch\\;of\\;size\\;10x10\\;i.e\\;at\\;pixels\\;between\\;450\\;and\\;500\\; in\\;orginal\\;image\\;in\\;both\\;y\\;and\\;x\\;directions:$$"
      ]
    },
    {
      "cell_type": "code",
      "metadata": {
        "id": "QcXzBeFtb7yz",
        "colab_type": "code",
        "colab": {}
      },
      "source": [
        "data_matrix=list()\n",
        "for i in range(np.shape(data)[0]-50,np.shape(data)[0]):\n",
        "  for j in range(np.shape(data)[1]-50,np.shape(data)[1]):\n",
        "    data_matrix.append(data[i][j])\n",
        "    \n",
        "data_matrix=np.transpose(data_matrix)"
      ],
      "execution_count": 0,
      "outputs": []
    },
    {
      "cell_type": "markdown",
      "metadata": {
        "id": "DDKdeV2dcPJ3",
        "colab_type": "text"
      },
      "source": [
        "$$Standardizing\\;the\\;data\\;to\\;calculate\\;covaraince\\;matrix:$$"
      ]
    },
    {
      "cell_type": "code",
      "metadata": {
        "id": "n6bnw9WHcJMc",
        "colab_type": "code",
        "colab": {}
      },
      "source": [
        "data_matrix=np.array(data_matrix)\n",
        "mean_column=mean(data_matrix, axis=1)\n",
        "mean_data_matrix=list()\n",
        "for i in range(np.shape(data_matrix)[1]):\n",
        "  mean_data_matrix.append(mean_column)\n",
        "\n",
        "zm_data_matrix=data_matrix-np.transpose(mean_data_matrix)"
      ],
      "execution_count": 0,
      "outputs": []
    },
    {
      "cell_type": "markdown",
      "metadata": {
        "id": "hcpWdCN0uhfk",
        "colab_type": "text"
      },
      "source": [
        "$$\\;Calculating\\;the\\;covariance\\;matrix\\;of\\;data\\;matrix.$$"
      ]
    },
    {
      "cell_type": "code",
      "metadata": {
        "id": "lBwwDSDfe9Wv",
        "colab_type": "code",
        "colab": {}
      },
      "source": [
        "covariance_matrix=np.dot(zm_data_matrix,np.transpose(zm_data_matrix))/np.shape(data_matrix)[1]"
      ],
      "execution_count": 0,
      "outputs": []
    },
    {
      "cell_type": "markdown",
      "metadata": {
        "id": "YBHZzI1x2ReG",
        "colab_type": "text"
      },
      "source": [
        "$$\\;Calculating\\;the\\;eigen\\;values\\;of\\;covariance\\;matrix.$$\n",
        "$$Transforming\\;the\\;data:\n",
        "Y=PX\n",
        "\\;where\\;P=matrix\\;consisting\\;of\\;eigen\\;vectors.$$"
      ]
    },
    {
      "cell_type": "code",
      "metadata": {
        "id": "j7XHxN4RftOY",
        "colab_type": "code",
        "colab": {}
      },
      "source": [
        "values,vectors=eig(covariance_matrix)\n",
        "e_matrix=vectors\n",
        "\n",
        "transformed_data_matrix=np.dot(np.transpose(e_matrix),data_matrix)"
      ],
      "execution_count": 0,
      "outputs": []
    },
    {
      "cell_type": "markdown",
      "metadata": {
        "id": "N76uF8GUykMM",
        "colab_type": "text"
      },
      "source": [
        "$$Checking\\;whether\\;the\\;algorithm\\;working\\;as\\;intended:\\;If \\;algorithm\\;works\\;properly\\;then\\;covariance\\;matrix\\;of\\; transformed\\; data\\;matrix\\;(Y=PX)should\\;be\\;a\\;diagonal\\;matrix\\;(Since\\;we\\;decorrelate\\;the\\;data)and\\;the\\; diagonal \\;should\\;consist\\;of\\;eigen\\;values\\;of\\;covariance\\;matrix.$$"
      ]
    },
    {
      "cell_type": "code",
      "metadata": {
        "id": "bJyLrZBvzEQg",
        "colab_type": "code",
        "colab": {}
      },
      "source": [
        "mean_column1=mean(transformed_data_matrix, axis=1)\n",
        "mean_transformed_data_matrix=list()\n",
        "for i in range(np.shape(data_matrix)[1]):\n",
        "  mean_transformed_data_matrix.append(mean_column1)\n",
        "\n",
        "zm_transformed_data_matrix=transformed_data_matrix-np.transpose(mean_transformed_data_matrix)"
      ],
      "execution_count": 0,
      "outputs": []
    },
    {
      "cell_type": "markdown",
      "metadata": {
        "id": "2S497PCKwIUg",
        "colab_type": "text"
      },
      "source": [
        "$$covariance\\;matrix\\;of\\;transformed\\;data\\;matrix:$$"
      ]
    },
    {
      "cell_type": "code",
      "metadata": {
        "id": "8E49z-0n0HSk",
        "colab_type": "code",
        "outputId": "c3e3ba16-668e-499a-9cc8-d1b588ab1380",
        "colab": {
          "base_uri": "https://localhost:8080/",
          "height": 107
        }
      },
      "source": [
        "#covariance matrix of tranformed data matrix:\n",
        "transformed_covariance_matrix=np.dot(zm_transformed_data_matrix,np.transpose(zm_transformed_data_matrix))/(np.shape(data_matrix)[1])\n",
        "print(transformed_covariance_matrix)\n",
        "print('eigen values:')\n",
        "print(values)"
      ],
      "execution_count": 10,
      "outputs": [
        {
          "output_type": "stream",
          "text": [
            "[[ 1.26580938e+03 -5.81712811e-13 -1.33561571e-12]\n",
            " [-5.81712811e-13  2.50843625e+01  2.79590040e-13]\n",
            " [-1.33561571e-12  2.79590040e-13  1.51946610e-01]]\n",
            "eigen values:\n",
            "[1.26580938e+03 2.50843625e+01 1.51946610e-01]\n"
          ],
          "name": "stdout"
        }
      ]
    },
    {
      "cell_type": "markdown",
      "metadata": {
        "id": "knmFARp40iIz",
        "colab_type": "text"
      },
      "source": [
        "$$So\\;algorithm\\;worked\\;properly\\;since\\;the\\;covaraince\\; matrix\\;of\\;transformed\\;data\\;matrix\\;is\\;a\\;(almost)\\;diagonal\\;matrix.The\\;elements\\;other\\;than\\;diagonal\\;elements\\;are\\;very\\;less(nearly\\;zero).The\\;diagonal \\;elements\\;of\\;matrix\\;are\\;equal\\;to\\;eigen\\;values.$$"
      ]
    },
    {
      "cell_type": "markdown",
      "metadata": {
        "id": "h8qGGvf0w6W1",
        "colab_type": "text"
      },
      "source": [
        "$$\\;Image\\;patch\\;from\\;transformed\\;data\\;matrix$$"
      ]
    },
    {
      "cell_type": "code",
      "metadata": {
        "id": "JELYxXITiUfI",
        "colab_type": "code",
        "colab": {}
      },
      "source": [
        "transformed_image_patch=list()\n",
        "k=0\n",
        "for i in range(50):\n",
        "  l=list()\n",
        "  for j in range(50):\n",
        "    l.append(np.transpose(transformed_data_matrix)[k])\n",
        "    k+=1\n",
        "  transformed_image_patch.append(np.array(l))\n",
        "\n",
        "transformed_image_patch=np.array(transformed_image_patch)"
      ],
      "execution_count": 0,
      "outputs": []
    },
    {
      "cell_type": "markdown",
      "metadata": {
        "id": "CV2pkLgG3y1O",
        "colab_type": "text"
      },
      "source": [
        "$$Transformed\\;image\\;patch:$$"
      ]
    },
    {
      "cell_type": "code",
      "metadata": {
        "id": "F296ER5stzkr",
        "colab_type": "code",
        "outputId": "7f0ca5ae-0441-4989-e108-84050dd525a9",
        "colab": {
          "base_uri": "https://localhost:8080/",
          "height": 593
        }
      },
      "source": [
        "print('original patch:')\n",
        "plt.imshow(data[450:500,450:500][:,:,[2,1,0]])\n",
        "plt.show()\n",
        "print('tranformed patch:')\n",
        "plt.imshow(transformed_image_patch[:,:,[2,1,0]])"
      ],
      "execution_count": 12,
      "outputs": [
        {
          "output_type": "stream",
          "text": [
            "original patch:\n"
          ],
          "name": "stdout"
        },
        {
          "output_type": "display_data",
          "data": {
            "image/png": "[encoded data removed]",
            "text/plain": [
              "<Figure size 432x288 with 1 Axes>"
            ]
          },
          "metadata": {
            "tags": []
          }
        },
        {
          "output_type": "stream",
          "text": [
            "Clipping input data to the valid range for imshow with RGB data ([0..1] for floats or [0..255] for integers).\n"
          ],
          "name": "stderr"
        },
        {
          "output_type": "stream",
          "text": [
            "tranformed patch:\n"
          ],
          "name": "stdout"
        },
        {
          "output_type": "execute_result",
          "data": {
            "text/plain": [
              "<matplotlib.image.AxesImage at 0x7f7ce80da7b8>"
            ]
          },
          "metadata": {
            "tags": []
          },
          "execution_count": 12
        },
        {
          "output_type": "display_data",
          "data": {
            "image/png": "[encoded data removed]",
            "text/plain": [
              "<Figure size 432x288 with 1 Axes>"
            ]
          },
          "metadata": {
            "tags": []
          }
        }
      ]
    },
    {
      "cell_type": "markdown",
      "metadata": {
        "id": "afEAhr6uRchY",
        "colab_type": "text"
      },
      "source": [
        "$$\n",
        "Examples\\;where\\;PCA\\;fails: \n",
        "$$\n",
        "\n",
        "$$\n",
        "\\implies The\\;standard\\;PCA\\;always\\;finds\\;linear\\;principal\\;components\\;to\\;represent\\;the\\;data\\;in\\;lower\\;dimension.\\;Sometime, \\;we\\;need\\;non-linear\\;principal\\;components.\\;In\\;this\\;case\\;we\\;use\\;kernel\\;PCA.\n",
        "$$\n",
        "\n",
        "$$\n",
        "\\implies PCA\\;always\\;finds\\;orthogonal\\;principal\\;components.\\; Sometimes,\\;our\\;data\\;demands\\;non-orthogonal\\;principal\\; components\\;to\\;represent\\;the\\;data.\n",
        "$$"
      ]
    }
  ]
}
