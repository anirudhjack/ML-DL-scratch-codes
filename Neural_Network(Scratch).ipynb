{
  "nbformat": 4,
  "nbformat_minor": 0,
  "metadata": {
    "colab": {
      "name": "Neural_Network(Scratch).ipynb",
      "provenance": [],
      "collapsed_sections": []
    },
    "kernelspec": {
      "name": "python3",
      "display_name": "Python 3"
    }
  },
  "cells": [
    {
      "cell_type": "markdown",
      "metadata": {
        "id": "D4DG4Lm9xXdL",
        "colab_type": "text"
      },
      "source": [
        "$$\n",
        "Importing\\;neccessary\\;libraries\n",
        "$$"
      ]
    },
    {
      "cell_type": "code",
      "metadata": {
        "id": "r65f5y8XTrUB",
        "colab_type": "code",
        "colab": {}
      },
      "source": [
        "import numpy as np\n",
        "import matplotlib.pyplot as plt\n",
        "import math"
      ],
      "execution_count": 0,
      "outputs": []
    },
    {
      "cell_type": "markdown",
      "metadata": {
        "id": "WVNS8vaGxe87",
        "colab_type": "text"
      },
      "source": [
        "$$\n",
        "Creating\\;a\\;network\\;with\\;weights\\;between\\;low\\;and\\;high\n",
        "$$"
      ]
    },
    {
      "cell_type": "code",
      "metadata": {
        "id": "vI8lwIjVqZqK",
        "colab_type": "code",
        "colab": {}
      },
      "source": [
        "def network(input_size,hidden_size,output_size,low,high):\n",
        "  whx=np.random.uniform(low, high, size=(hidden_size,input_size))\n",
        "  woh=np.random.uniform(low, high, size=(output_size,hidden_size))\n",
        "  \n",
        "  bh=np.random.uniform(low, high, size=(hidden_size,))\n",
        "  bo=np.random.uniform(low, high, size=(output_size,))\n",
        "  \n",
        "  return (np.matrix(whx),np.matrix(woh),np.matrix(bh),np.matrix(bo))"
      ],
      "execution_count": 0,
      "outputs": []
    },
    {
      "cell_type": "markdown",
      "metadata": {
        "id": "osk-oK_Wxpg4",
        "colab_type": "text"
      },
      "source": [
        "$$\n",
        "Sigmoid\\;function\n",
        "$$"
      ]
    },
    {
      "cell_type": "code",
      "metadata": {
        "id": "QapvJ1oRUD1P",
        "colab_type": "code",
        "colab": {}
      },
      "source": [
        "def sigmoid(x):\n",
        "  return 1/(1+np.exp(-x))"
      ],
      "execution_count": 0,
      "outputs": []
    },
    {
      "cell_type": "markdown",
      "metadata": {
        "id": "lxz1-0RpxvWF",
        "colab_type": "text"
      },
      "source": [
        "$$\n",
        "Forward\\;propagation\n",
        "$$"
      ]
    },
    {
      "cell_type": "code",
      "metadata": {
        "id": "wkPtUAWhUSFN",
        "colab_type": "code",
        "colab": {}
      },
      "source": [
        "def forward_propagation(x,Whx,Woh,Bh,Bo):\n",
        "  h=np.dot(Whx,np.transpose(x))\n",
        "  h=sigmoid(np.add(h,np.transpose(Bh)))\n",
        "  \n",
        "  o=np.dot(Woh,h)\n",
        "  o=sigmoid(np.add(o,np.transpose(Bo)))\n",
        "  \n",
        "  return(h,o)\n",
        "  "
      ],
      "execution_count": 0,
      "outputs": []
    },
    {
      "cell_type": "markdown",
      "metadata": {
        "id": "c5J0jJQgxzJ6",
        "colab_type": "text"
      },
      "source": [
        "$$\n",
        "Derivative\\;of\\;sigmoid\\;function\n",
        "$$"
      ]
    },
    {
      "cell_type": "code",
      "metadata": {
        "id": "_Y2e2euYV-Hp",
        "colab_type": "code",
        "colab": {}
      },
      "source": [
        "def transfer_derivative(num):\n",
        "  return num-np.multiply(num,num)"
      ],
      "execution_count": 0,
      "outputs": []
    },
    {
      "cell_type": "markdown",
      "metadata": {
        "id": "NT9FphtWx6Hp",
        "colab_type": "text"
      },
      "source": [
        "$$\n",
        "Back\\;propagation\n",
        "$$"
      ]
    },
    {
      "cell_type": "code",
      "metadata": {
        "id": "1-MO-Pq3W4xx",
        "colab_type": "code",
        "colab": {}
      },
      "source": [
        "def back_propagation(target,output,h,x,Woh):\n",
        "  do=np.multiply(-(target-output),transfer_derivative(output))\n",
        "  dWoh=np.matmul(np.matrix(do),np.matrix(np.transpose(h)))\n",
        "  dBo=do\n",
        "  \n",
        "  dh=np.matmul(np.multiply(np.transpose(Woh)\n",
        "                           ,transfer_derivative(h)),np.matrix(do))\n",
        "  \n",
        "  dWhx=np.matmul(np.matrix(dh),np.matrix(x))\n",
        "  dBh=dh\n",
        "  return(np.matrix(dWoh),np.matrix(dWhx),np.matrix(dBo),np.matrix(dBh))"
      ],
      "execution_count": 0,
      "outputs": []
    },
    {
      "cell_type": "markdown",
      "metadata": {
        "id": "Zz_0-F5uyA0A",
        "colab_type": "text"
      },
      "source": [
        "$$\n",
        "Full\\;batch\\;training\n",
        "$$"
      ]
    },
    {
      "cell_type": "code",
      "metadata": {
        "id": "4Z5qT668jYh5",
        "colab_type": "code",
        "colab": {}
      },
      "source": [
        "def train(x,target,whx,woh,bh,bo,epochs,lr):\n",
        "  for i in range(epochs):\n",
        "    loss=0\n",
        "    sdWoh,sdWhx=np.zeros(np.shape(woh)),np.zeros(np.shape(whx))\n",
        "    sdBo,sdBh=np.zeros(np.shape(bo)),np.zeros(np.shape(bh))\n",
        "    \n",
        "    for j in range(np.shape(x)[0]):\n",
        "      (h,o)=forward_propagation(np.array(x[j]),whx,woh,bh,bo)\n",
        "      (dWoh,dWhx,dBo,dBh)=back_propagation(np.array(target[j])\n",
        "                                           ,o,h,np.array(x[j])\n",
        "                                           ,woh)\n",
        "      \n",
        "      sdWoh+=dWoh.reshape(np.shape(woh))\n",
        "      sdWhx+=dWhx.reshape(np.shape(whx))\n",
        "      sdBo+=dBo.reshape(np.shape(bo))\n",
        "      sdBh+=dBh.reshape(np.shape(bh))\n",
        "      loss+=0.5*np.sum(target[j][0]-o[0])**2\n",
        "      \n",
        "    whx=whx-lr*(1/np.shape(x)[0])*sdWhx.reshape(np.shape(whx))\n",
        "    woh=woh-lr*(1/np.shape(x)[0])*sdWoh.reshape(np.shape(woh))\n",
        "    bh=bh-lr*(1/np.shape(x)[0])*sdBh.reshape(np.shape(bh))\n",
        "    bo=bo-lr*(1/np.shape(x)[0])*sdBo.reshape(np.shape(bo))\n",
        "    if (i)%(epochs/10)==0:\n",
        "      print(\"Epoch:\",end=\" \")\n",
        "      print(i+1)\n",
        "      print(\"loss:\",end=\" \")\n",
        "      print(loss/np.shape(x)[0])\n",
        "    \n",
        "  return(whx,woh,bh,bo)"
      ],
      "execution_count": 0,
      "outputs": []
    },
    {
      "cell_type": "markdown",
      "metadata": {
        "id": "SmO-oXKQyHYb",
        "colab_type": "text"
      },
      "source": [
        "$$\n",
        "Training\\;XOR\\;gate\\;on\\;MLP\n",
        "$$"
      ]
    },
    {
      "cell_type": "markdown",
      "metadata": {
        "id": "gTtmsZOkyQqs",
        "colab_type": "text"
      },
      "source": [
        "$$\n",
        "Creating\\;network\\;with\\;values\\;between\\;(0,1)\n",
        "$$"
      ]
    },
    {
      "cell_type": "code",
      "metadata": {
        "id": "koZFOnNFjkSg",
        "colab_type": "code",
        "colab": {}
      },
      "source": [
        "x1=[[[0,0]],[[0,1]],[[1,0]],[[1,1]]]\n",
        "t1=[[0],[1],[1],[0]]\n",
        "(Whx1,Woh1,Bh1,Bo1)=network(input_size=2\n",
        "                            ,hidden_size=2\n",
        "                            ,output_size=1\n",
        "                            ,low=0,high=1)"
      ],
      "execution_count": 0,
      "outputs": []
    },
    {
      "cell_type": "markdown",
      "metadata": {
        "id": "ERn_MX8_ycRm",
        "colab_type": "text"
      },
      "source": [
        "$$\n",
        "Training\\;and\\;testing\\;XOR\\;on\\;MLP\n",
        "$$"
      ]
    },
    {
      "cell_type": "code",
      "metadata": {
        "id": "lN7TzY-BjwNJ",
        "colab_type": "code",
        "outputId": "d4ad95df-a3d6-4b07-f832-3b4077b75bca",
        "colab": {
          "base_uri": "https://localhost:8080/",
          "height": 467
        }
      },
      "source": [
        "(Whx1,Woh1,Bh1,Bo1)=train(x1,t1,np.array(Whx1)\n",
        "                        ,np.array(Woh1)\n",
        "                        ,np.array(Bh1)\n",
        "                        ,np.array(Bo1)\n",
        "                        ,epochs=10000\n",
        "                        ,lr=5)\n",
        "\n",
        "print('output of XOR Gate:')\n",
        "(h1,o1)=forward_propagation(np.array(x1[0]),Whx1,Woh1,Bh1,Bo1)\n",
        "(h2,o2)=forward_propagation(np.array(x1[1]),Whx1,Woh1,Bh1,Bo1)\n",
        "(h3,o3)=forward_propagation(np.array(x1[2]),Whx1,Woh1,Bh1,Bo1)\n",
        "(h4,o4)=forward_propagation(np.array(x1[3]),Whx1,Woh1,Bh1,Bo1)\n",
        "print(\"Input:\",end=\" \")\n",
        "print(np.array(x1[0]),end=\" \")\n",
        "print(\"-->output:\",end=\" \")\n",
        "print(o1[0])\n",
        "\n",
        "print(\"Input:\",end=\" \")\n",
        "print(np.array(x1[1]),end=\" \")\n",
        "print(\"-->output:\",end=\" \")\n",
        "print(o2[0])\n",
        "\n",
        "print(\"Input:\",end=\" \")\n",
        "print(np.array(x1[2]),end=\" \")\n",
        "print(\"-->output:\",end=\" \")\n",
        "print(o3[0])\n",
        "\n",
        "print(\"Input:\",end=\" \")\n",
        "print(np.array(x1[3]),end=\" \")\n",
        "print(\"-->output:\",end=\" \")\n",
        "print(o4[0])"
      ],
      "execution_count": 44,
      "outputs": [
        {
          "output_type": "stream",
          "text": [
            "Epoch: 1\n",
            "loss: 0.18726992102219286\n",
            "Epoch: 1001\n",
            "loss: 0.001057362521524808\n",
            "Epoch: 2001\n",
            "loss: 0.00036173043332492173\n",
            "Epoch: 3001\n",
            "loss: 0.00021418941069022046\n",
            "Epoch: 4001\n",
            "loss: 0.00015122416713308083\n",
            "Epoch: 5001\n",
            "loss: 0.00011653363878971022\n",
            "Epoch: 6001\n",
            "loss: 9.463408566030638e-05\n",
            "Epoch: 7001\n",
            "loss: 7.958042679930162e-05\n",
            "Epoch: 8001\n",
            "loss: 6.860981654153588e-05\n",
            "Epoch: 9001\n",
            "loss: 6.026649963382733e-05\n",
            "output of XOR Gate:\n",
            "Input: [[0 0]] -->output: [0.01154947]\n",
            "Input: [[0 1]] -->output: [0.99015672]\n",
            "Input: [[1 0]] -->output: [0.99014577]\n",
            "Input: [[1 1]] -->output: [0.01011469]\n"
          ],
          "name": "stdout"
        }
      ]
    },
    {
      "cell_type": "markdown",
      "metadata": {
        "id": "t_fTFhHKy73o",
        "colab_type": "text"
      },
      "source": [
        "$$\n",
        "AND\\;gate\n",
        "$$"
      ]
    },
    {
      "cell_type": "markdown",
      "metadata": {
        "id": "GeyTqip9yrVa",
        "colab_type": "text"
      },
      "source": [
        "$$\n",
        "Creating\\;network\\;with\\;values\\;in\\;range(0,1)\n",
        "$$"
      ]
    },
    {
      "cell_type": "code",
      "metadata": {
        "id": "emjWf6obymd4",
        "colab_type": "code",
        "colab": {}
      },
      "source": [
        "x2=[[[0,0]],[[0,1]],[[1,0]],[[1,1]]]\n",
        "t2=[[0],[0],[0],[1]]\n",
        "(Whx1,Woh1,Bh1,Bo1)=network(input_size=2\n",
        "                            ,hidden_size=2,\n",
        "                            output_size=1\n",
        "                            ,low=0,high=1)"
      ],
      "execution_count": 0,
      "outputs": []
    },
    {
      "cell_type": "code",
      "metadata": {
        "id": "g4UxZR0dzHGg",
        "colab_type": "code",
        "outputId": "1ddb3334-139f-4655-c2d2-9d8027658bc0",
        "colab": {
          "base_uri": "https://localhost:8080/",
          "height": 467
        }
      },
      "source": [
        "(Whx1,Woh1,Bh1,Bo1)=train(np.array(x2),np.array(t2)\n",
        "                          ,Whx1,Woh1,Bh1,Bo1\n",
        "                          ,epochs=10000,lr=5)\n",
        "\n",
        "print('output of AND Gate:')\n",
        "(h1,o1)=forward_propagation(np.array(x2[0]),Whx1,Woh1,Bh1,Bo1)\n",
        "(h2,o2)=forward_propagation(np.array(x2[1]),Whx1,Woh1,Bh1,Bo1)\n",
        "(h3,o3)=forward_propagation(np.array(x2[2]),Whx1,Woh1,Bh1,Bo1)\n",
        "(h4,o4)=forward_propagation(np.array(x2[3]),Whx1,Woh1,Bh1,Bo1)\n",
        "print(\"Input:\",end=\" \")\n",
        "print(np.array(x1[0]),end=\" \")\n",
        "print(\"-->output:\",end=\" \")\n",
        "print(o1[0])\n",
        "\n",
        "print(\"Input:\",end=\" \")\n",
        "print(np.array(x1[1]),end=\" \")\n",
        "print(\"-->output:\",end=\" \")\n",
        "print(o2[0])\n",
        "\n",
        "print(\"Input:\",end=\" \")\n",
        "print(np.array(x1[2]),end=\" \")\n",
        "print(\"-->output:\",end=\" \")\n",
        "print(o3[0])\n",
        "\n",
        "print(\"Input:\",end=\" \")\n",
        "print(np.array(x1[3]),end=\" \")\n",
        "print(\"-->output:\",end=\" \")\n",
        "print(o4[0])"
      ],
      "execution_count": 32,
      "outputs": [
        {
          "output_type": "stream",
          "text": [
            "Epoch: 1\n",
            "loss: 0.1796156903545093\n",
            "Epoch: 1001\n",
            "loss: 0.0003628214988477748\n",
            "Epoch: 2001\n",
            "loss: 0.0001502154064256828\n",
            "Epoch: 3001\n",
            "loss: 9.250528669367692e-05\n",
            "Epoch: 4001\n",
            "loss: 6.620016616475441e-05\n",
            "Epoch: 5001\n",
            "loss: 5.128254570009859e-05\n",
            "Epoch: 6001\n",
            "loss: 4.172004360253922e-05\n",
            "Epoch: 7001\n",
            "loss: 3.508792013336496e-05\n",
            "Epoch: 8001\n",
            "loss: 3.0228145750596104e-05\n",
            "Epoch: 9001\n",
            "loss: 2.651954070317793e-05\n",
            "output of AND Gate:\n",
            "Input: [[0 0]] -->output: [[0.00147605]]\n",
            "Input: [[0 1]] -->output: [[0.00715994]]\n",
            "Input: [[1 0]] -->output: [[0.00718967]]\n",
            "Input: [[1 1]] -->output: [[0.99085327]]\n"
          ],
          "name": "stdout"
        }
      ]
    },
    {
      "cell_type": "markdown",
      "metadata": {
        "id": "ADt2nOPKzjD6",
        "colab_type": "text"
      },
      "source": [
        "$$\n",
        "OR\\;gate\n",
        "$$"
      ]
    },
    {
      "cell_type": "markdown",
      "metadata": {
        "id": "xCNFW3K4z1xr",
        "colab_type": "text"
      },
      "source": [
        "$$\n",
        "Creating\\;network\\;with\\;weights\\;in\\;between\\;(0,1)\n",
        "$$"
      ]
    },
    {
      "cell_type": "code",
      "metadata": {
        "id": "Y-SbfNIpzis-",
        "colab_type": "code",
        "colab": {}
      },
      "source": [
        "x3=[[[0,0]],[[0,1]],[[1,0]],[[1,1]]]\n",
        "t3=[[0],[1],[1],[1]]\n",
        "(Whx1,Woh1,Bh1,Bo1)=network(input_size=2\n",
        "                            ,hidden_size=2\n",
        "                            ,output_size=1\n",
        "                            ,low=0,high=1)"
      ],
      "execution_count": 0,
      "outputs": []
    },
    {
      "cell_type": "code",
      "metadata": {
        "id": "2huBsSnU0ARw",
        "colab_type": "code",
        "outputId": "259e38ac-509d-44f8-ca40-6d6a2de29332",
        "colab": {
          "base_uri": "https://localhost:8080/",
          "height": 467
        }
      },
      "source": [
        "(Whx1,Woh1,Bh1,Bo1)=train(np.array(x3),np.array(t3)\n",
        "                          ,Whx1,Woh1,Bh1,Bo1\n",
        "                          ,epochs=10000,lr=5)\n",
        "\n",
        "print('output of OR Gate:')\n",
        "(h1,o1)=forward_propagation(np.array(x3[0]),Whx1,Woh1,Bh1,Bo1)\n",
        "(h2,o2)=forward_propagation(np.array(x3[1]),Whx1,Woh1,Bh1,Bo1)\n",
        "(h3,o3)=forward_propagation(np.array(x3[2]),Whx1,Woh1,Bh1,Bo1)\n",
        "(h4,o4)=forward_propagation(np.array(x3[3]),Whx1,Woh1,Bh1,Bo1)\n",
        "print(\"Input:\",end=\" \")\n",
        "print(np.array(x1[0]),end=\" \")\n",
        "print(\"-->output:\",end=\" \")\n",
        "print(o1[0])\n",
        "\n",
        "print(\"Input:\",end=\" \")\n",
        "print(np.array(x1[1]),end=\" \")\n",
        "print(\"-->output:\",end=\" \")\n",
        "print(o2[0])\n",
        "\n",
        "print(\"Input:\",end=\" \")\n",
        "print(np.array(x1[2]),end=\" \")\n",
        "print(\"-->output:\",end=\" \")\n",
        "print(o3[0])\n",
        "\n",
        "print(\"Input:\",end=\" \")\n",
        "print(np.array(x1[3]),end=\" \")\n",
        "print(\"-->output:\",end=\" \")\n",
        "print(o4[0])"
      ],
      "execution_count": 34,
      "outputs": [
        {
          "output_type": "stream",
          "text": [
            "Epoch: 1\n",
            "loss: 0.10389437788267425\n",
            "Epoch: 1001\n",
            "loss: 0.0003492083042197829\n",
            "Epoch: 2001\n",
            "loss: 0.00015507108218326546\n",
            "Epoch: 3001\n",
            "loss: 9.842434676022794e-05\n",
            "Epoch: 4001\n",
            "loss: 7.172488943890478e-05\n",
            "Epoch: 5001\n",
            "loss: 5.626615202888851e-05\n",
            "Epoch: 6001\n",
            "loss: 4.621111864849487e-05\n",
            "Epoch: 7001\n",
            "loss: 3.9159942917292595e-05\n",
            "Epoch: 8001\n",
            "loss: 3.394754103961109e-05\n",
            "Epoch: 9001\n",
            "loss: 2.9940988319697137e-05\n",
            "output of OR Gate:\n",
            "Input: [[0 0]] -->output: [[0.0113433]]\n",
            "Input: [[0 1]] -->output: [[0.99366709]]\n",
            "Input: [[1 0]] -->output: [[0.99377539]]\n",
            "Input: [[1 1]] -->output: [[0.99742788]]\n"
          ],
          "name": "stdout"
        }
      ]
    },
    {
      "cell_type": "markdown",
      "metadata": {
        "id": "0zxhy9oPhgy_",
        "colab_type": "text"
      },
      "source": [
        "$$\n",
        "Experimenting\\;the\\;number\\;of\\;samples:\n",
        "$$"
      ]
    },
    {
      "cell_type": "code",
      "metadata": {
        "id": "1taoqHzthgRX",
        "colab_type": "code",
        "colab": {}
      },
      "source": [
        "def generate_data(N,gate):\n",
        "  if(gate=='XOR'):\n",
        "    x=[[[0,0]],[[0,1]],[[1,0]],[[1,1]]]\n",
        "    t=[[0],[1],[1],[0]]\n",
        "  if(gate=='AND'):\n",
        "    x=[[[0,0]],[[0,1]],[[1,0]],[[1,1]]]\n",
        "    t=[[0],[0],[0],[1]]\n",
        "  else:\n",
        "    x=[[[0,0]],[[0,1]],[[1,0]],[[1,1]]]\n",
        "    t=[[0],[1],[1],[1]]\n",
        "  \n",
        "  input_data=list()\n",
        "  labels=list()\n",
        "  itera=1\n",
        "  while(itera<=N):\n",
        "    noise1=np.random.uniform(0.01,0.1, size=(1,2))\n",
        "    noise2=np.random.uniform(0.01,0.1, size=(1,))\n",
        "    \n",
        "    input_data.append(x[(itera-1)%4]+np.matrix(noise1))\n",
        "    labels.append(t[(itera-1)%4]+np.matrix(noise2))\n",
        "    \n",
        "    itera+=1\n",
        "  \n",
        "  return(input_data,labels)"
      ],
      "execution_count": 0,
      "outputs": []
    },
    {
      "cell_type": "markdown",
      "metadata": {
        "id": "qmRTsWzauAOF",
        "colab_type": "text"
      },
      "source": [
        "$$\n",
        "Training\\;MLP\\;with\\;40\\;randomly\\;generated\\;noise\\;OR\\;gate\\;data:\n",
        "$$"
      ]
    },
    {
      "cell_type": "code",
      "metadata": {
        "id": "uEYkkCgzk42a",
        "colab_type": "code",
        "colab": {}
      },
      "source": [
        "(xn,tn)=generate_data(40,gate=\"OR\")\n",
        "(Whxn,Wohn,Bhn,Bon)=network(input_size=2\n",
        "                            ,hidden_size=2\n",
        "                            ,output_size=1\n",
        "                            ,low=0,high=1)"
      ],
      "execution_count": 0,
      "outputs": []
    },
    {
      "cell_type": "code",
      "metadata": {
        "id": "SYK9vhJJlfQ5",
        "colab_type": "code",
        "outputId": "c0f698bc-6086-4ea5-816a-98eeef606e62",
        "colab": {
          "base_uri": "https://localhost:8080/",
          "height": 287
        }
      },
      "source": [
        "(Whxn,Wohn,Bhn,Bon)=train(np.array(xn),np.array(tn)\n",
        "                          ,Whxn,Wohn,Bhn,Bon,epochs=5000,lr=5)\n",
        "\n",
        "print('output of OR Gate on noised samples:')\n",
        "(h1,o1)=forward_propagation(np.array(xn[0]),Whxn,Wohn,Bhn,Bon)\n",
        "(h2,o2)=forward_propagation(np.array(xn[1]),Whxn,Wohn,Bhn,Bon)\n",
        "(h3,o3)=forward_propagation(np.array(xn[2]),Whxn,Wohn,Bhn,Bon)\n",
        "(h4,o4)=forward_propagation(np.array(xn[3]),Whxn,Wohn,Bhn,Bon)\n",
        "print(\"Input:\",end=\" \")\n",
        "print(np.array(xn[0]),end=\" \")\n",
        "print(\"-->output:\",end=\" \")\n",
        "print(o1[0])\n",
        "\n",
        "print(\"Input:\",end=\" \")\n",
        "print(np.array(xn[1]),end=\" \")\n",
        "print(\"-->output:\",end=\" \")\n",
        "print(o2[0])\n",
        "\n",
        "print(\"Input:\",end=\" \")\n",
        "print(np.array(xn[2]),end=\" \")\n",
        "print(\"-->output:\",end=\" \")\n",
        "print(o3[0])\n",
        "\n",
        "print(\"Input:\",end=\" \")\n",
        "print(np.array(xn[3]),end=\" \")\n",
        "print(\"-->output:\",end=\" \")\n",
        "print(o4[0])"
      ],
      "execution_count": 37,
      "outputs": [
        {
          "output_type": "stream",
          "text": [
            "Epoch: 1\n",
            "loss: 0.0944942453027679\n",
            "Epoch: 1001\n",
            "loss: 0.0021171622773203903\n",
            "Epoch: 2001\n",
            "loss: 0.0018977687849199153\n",
            "Epoch: 3001\n",
            "loss: 0.0018393540677595767\n",
            "Epoch: 4001\n",
            "loss: 0.0018131373334696471\n",
            "output of OR Gate on noised samples:\n",
            "Input: [[0.06022678 0.08020674]] -->output: [[0.06850489]]\n",
            "Input: [[0.07641395 1.01437626]] -->output: [[0.99869246]]\n",
            "Input: [[1.06794029 0.01267081]] -->output: [[0.99863825]]\n",
            "Input: [[1.05444682 1.01644852]] -->output: [[0.9994761]]\n"
          ],
          "name": "stdout"
        }
      ]
    },
    {
      "cell_type": "markdown",
      "metadata": {
        "id": "jZjWDyBd3imV",
        "colab_type": "text"
      },
      "source": [
        "$$\n",
        "\\textbf{Affect of noise on MLP}\n",
        "\\\\By\\;training\\;MLP\\;with\\;noise\\;samples\\;the\\;network\\;becomes\\;robust\\;to\\;noise\\;input\\;data\n",
        "$$"
      ]
    }
  ]
}