{
  "nbformat": 4,
  "nbformat_minor": 0,
  "metadata": {
    "colab": {
      "name": "question1_assign1.ipynb",
      "provenance": [],
      "collapsed_sections": []
    },
    "kernelspec": {
      "name": "python3",
      "display_name": "Python 3"
    }
  },
  "cells": [
    {
      "cell_type": "markdown",
      "metadata": {
        "id": "-qJQ79AkZibi",
        "colab_type": "text"
      },
      "source": [
        "$$Importing\\;neccessary\\;libraries$$"
      ]
    },
    {
      "cell_type": "code",
      "metadata": {
        "id": "x4wkK2InZETE",
        "colab_type": "code",
        "colab": {}
      },
      "source": [
        "import numpy as np\n",
        "import cv2\n",
        "import os\n",
        "import matplotlib.pyplot as plt\n",
        "import random as rd\n",
        "import math"
      ],
      "execution_count": 0,
      "outputs": []
    },
    {
      "cell_type": "markdown",
      "metadata": {
        "id": "7MRfg_db5AsI",
        "colab_type": "text"
      },
      "source": [
        "$$Input\\;image\\;for\\;clustering\\;the\\;pixels:$$"
      ]
    },
    {
      "cell_type": "code",
      "metadata": {
        "id": "kh0gp1hob_Jl",
        "colab_type": "code",
        "outputId": "6e2d36c3-e5e0-427d-aa19-9847ec94d637",
        "colab": {
          "base_uri": "https://localhost:8080/",
          "height": 287
        }
      },
      "source": [
        "data=cv2.imread('kmeans.png')\n",
        "plt.imshow(data[:,:,[2,1,0]])"
      ],
      "execution_count": 23,
      "outputs": [
        {
          "output_type": "execute_result",
          "data": {
            "text/plain": [
              "<matplotlib.image.AxesImage at 0x7fcece516be0>"
            ]
          },
          "metadata": {
            "tags": []
          },
          "execution_count": 23
        },
        {
          "output_type": "display_data",
          "data": {
            "image/png": "[encoded data removed]",
            "text/plain": [
              "<Figure size 432x288 with 1 Axes>"
            ]
          },
          "metadata": {
            "tags": []
          }
        }
      ]
    },
    {
      "cell_type": "markdown",
      "metadata": {
        "id": "SE-X5MHsgf3k",
        "colab_type": "text"
      },
      "source": [
        "$$\n",
        "Data\\;preprocessing:\n",
        "$$"
      ]
    },
    {
      "cell_type": "code",
      "metadata": {
        "id": "8RyW0nGWedDV",
        "colab_type": "code",
        "colab": {}
      },
      "source": [
        "data_matrix=list()\n",
        "for i in range(np.shape(data)[0]):\n",
        "  for j in range(np.shape(data)[1]):\n",
        "    data_matrix.append(data[i][j])\n",
        "    \n",
        "data_matrix=np.transpose(data_matrix)"
      ],
      "execution_count": 0,
      "outputs": []
    },
    {
      "cell_type": "markdown",
      "metadata": {
        "id": "9uMIbaf6A_TJ",
        "colab_type": "text"
      },
      "source": [
        "$$Functions\\;for\\;euclidean\\;distance,updating\\;centriods,Kmeans\\; clustering$$"
      ]
    },
    {
      "cell_type": "code",
      "metadata": {
        "id": "dQhW_ARth67X",
        "colab_type": "code",
        "colab": {}
      },
      "source": [
        "def euclidean_distance(center,point):\n",
        "  distance=0;\n",
        "  for i in range(np.shape(center)[0]):\n",
        "    distance+=(center[i]-point[i])**2\n",
        "  return np.sqrt(distance)"
      ],
      "execution_count": 0,
      "outputs": []
    },
    {
      "cell_type": "code",
      "metadata": {
        "id": "yrsWq5zRqkKe",
        "colab_type": "code",
        "colab": {}
      },
      "source": [
        "def update(cluster):\n",
        "  return np.mean(cluster,axis=0)"
      ],
      "execution_count": 0,
      "outputs": []
    },
    {
      "cell_type": "code",
      "metadata": {
        "id": "nGKzZ6gofVZ8",
        "colab_type": "code",
        "colab": {}
      },
      "source": [
        "#data_matrix size->dxN\n",
        "#centriods size->Kxd\n",
        "def K_means_clustering(data_matrix,K,e):\n",
        "  #generate random centriod\n",
        "  centriods=list()\n",
        "  for i in range(K):\n",
        "    centriod=list()\n",
        "    for j in range(np.shape(data_matrix)[0]):\n",
        "      a=rd.uniform(1,150)\n",
        "      centriod.append(a)\n",
        "    centriods.append(centriod)\n",
        "  \n",
        "  print('centriods initially:')\n",
        "  print(centriods)\n",
        "  \n",
        "  err=math.inf\n",
        "  clus=list()\n",
        "  #finding the appropriate clusters for each data point\n",
        "  while(err>=e):\n",
        "    #create K empty clusters\n",
        "    clusters=list()\n",
        "    for i in range(K):\n",
        "      cluster=list()\n",
        "      clusters.append(cluster)\n",
        "    \n",
        "    #creating lists of indexes which are used in recoloring the image.\n",
        "    indexes=list()\n",
        "    for i in range(K):\n",
        "      index=list()\n",
        "      indexes.append(index)\n",
        "      \n",
        "    for i in range(np.shape(data_matrix)[1]):\n",
        "      index=0\n",
        "      D=math.inf\n",
        "      for j in range(np.shape(centriods)[0]):\n",
        "        d=euclidean_distance(data_matrix[:,i],centriods[j])\n",
        "        if min(d,D)==d:\n",
        "          index=j\n",
        "          D=d\n",
        "      clusters[index].append(data_matrix[:,i])\n",
        "      indexes[index].append(i);\n",
        "        \n",
        "\n",
        "    error=0\n",
        "    for i in range(K):\n",
        "      if clusters[i]!=[]:\n",
        "        centriod1=update(clusters[i])\n",
        "        error+=np.square(euclidean_distance(centriod1,centriods[i]))\n",
        "        centriods[i]=centriod1\n",
        "    print('error: ',end='')\n",
        "    print(error)\n",
        "    err=error\n",
        "    print('updated centriods:',end='')\n",
        "    print(centriods)\n",
        "    if err<e:\n",
        "      clus=clusters\n",
        "      \n",
        "      \n",
        "  return (err,centriods,clus,indexes)\n",
        "      \n",
        "\n",
        "      \n",
        "    "
      ],
      "execution_count": 0,
      "outputs": []
    },
    {
      "cell_type": "markdown",
      "metadata": {
        "id": "Z11JkwBe_dL2",
        "colab_type": "text"
      },
      "source": [
        "$$Applying\\;kmeans\\;clustering\\;on\\;image\\; pixels\\;data:\\;Creating\\;three\\;clusters\\;with\\;0.01\\;as\\;threshold\\;for\\;error.$$"
      ]
    },
    {
      "cell_type": "code",
      "metadata": {
        "id": "0jdNT0DuoXI5",
        "colab_type": "code",
        "outputId": "80119625-9b13-4a8f-91aa-188a3fc17b45",
        "colab": {
          "base_uri": "https://localhost:8080/",
          "height": 217
        }
      },
      "source": [
        "K=3\n",
        "threshold=0.01\n",
        "(error,centriods,clusters,indexes)=K_means_clustering(data_matrix,K,threshold)"
      ],
      "execution_count": 28,
      "outputs": [
        {
          "output_type": "stream",
          "text": [
            "centriods initially:\n",
            "[[127.4748846970005, 24.989466784468597, 108.48312580264066], [11.639617892673437, 13.06780582660901, 135.21710477723818], [35.06930382992919, 122.92117724711159, 92.50283945026186]]\n",
            "error: 20278.213889598956\n",
            "updated centriods:[array([157.1510945 , 116.8939313 ,  49.63267485]), [11.639617892673437, 13.06780582660901, 135.21710477723818], array([104.46373321, 137.73808291, 142.02659904])]\n",
            "error: 10701.062870688611\n",
            "updated centriods:[array([157.1510945 , 116.8939313 ,  49.63267485]), array([15., 65., 65.]), array([140.16739655, 166.76678461, 172.76678461])]\n",
            "error: 5701.05279905443\n",
            "updated centriods:[array([189., 140.,  59.]), array([35.39916181, 87.72079958, 86.93254905]), array([182., 188., 194.])]\n",
            "error: 0.0\n",
            "updated centriods:[array([189., 140.,  59.]), array([35.39916181, 87.72079958, 86.93254905]), array([182., 188., 194.])]\n"
          ],
          "name": "stdout"
        }
      ]
    },
    {
      "cell_type": "markdown",
      "metadata": {
        "id": "5EBjRLRP7OBD",
        "colab_type": "text"
      },
      "source": [
        "$$Assigning\\;unique\\;colors\\;to\\;the\\;pixels\\;which\\;are\\;clustered$$"
      ]
    },
    {
      "cell_type": "code",
      "metadata": {
        "id": "xlFawvWcKFCt",
        "colab_type": "code",
        "outputId": "3ec28638-8749-4ce1-9a4b-339508597dd8",
        "colab": {
          "base_uri": "https://localhost:8080/",
          "height": 575
        }
      },
      "source": [
        "print(\"Orginal image:\")\n",
        "plt.imshow(data[:,:,[2,1,0]])\n",
        "plt.show()\n",
        "\n",
        "indexes=np.array(indexes)\n",
        "for i in range(np.shape(indexes)[0]):\n",
        "  for j in range(np.shape(indexes[i])[0]):\n",
        "    r=int(indexes[i][j]/np.shape(data)[0])\n",
        "    c=indexes[i][j]-np.shape(data)[1]*r\n",
        "    if i==0:\n",
        "      data[r][c][0]=255\n",
        "      data[r][c][1]=100\n",
        "      data[r][c][2]=100\n",
        "    if i==1:\n",
        "      data[r][c][0]=100\n",
        "      data[r][c][1]=255\n",
        "      data[r][c][2]=100\n",
        "    if i==2:\n",
        "      data[r][c][0]=100\n",
        "      data[r][c][1]=100\n",
        "      data[r][c][2]=255\n",
        "\n",
        "print(\"Image after K-clustering:\")\n",
        "plt.imshow(data[:,:,[2,1,0]])"
      ],
      "execution_count": 29,
      "outputs": [
        {
          "output_type": "stream",
          "text": [
            "Orginal image:\n"
          ],
          "name": "stdout"
        },
        {
          "output_type": "display_data",
          "data": {
            "image/png": "[encoded data removed]",
            "text/plain": [
              "<Figure size 432x288 with 1 Axes>"
            ]
          },
          "metadata": {
            "tags": []
          }
        },
        {
          "output_type": "stream",
          "text": [
            "Image after K-clustering:\n"
          ],
          "name": "stdout"
        },
        {
          "output_type": "execute_result",
          "data": {
            "text/plain": [
              "<matplotlib.image.AxesImage at 0x7fcecc84a4a8>"
            ]
          },
          "metadata": {
            "tags": []
          },
          "execution_count": 29
        },
        {
          "output_type": "display_data",
          "data": {
            "image/png": "[encoded data removed]",
            "text/plain": [
              "<Figure size 432x288 with 1 Axes>"
            ]
          },
          "metadata": {
            "tags": []
          }
        }
      ]
    }
  ]
}